{
 "cells": [
  {
   "cell_type": "code",
   "execution_count": 8,
   "metadata": {},
   "outputs": [],
   "source": [
    "import cv2\n",
    "import numpy as np"
   ]
  },
  {
   "cell_type": "code",
   "execution_count": 9,
   "metadata": {},
   "outputs": [],
   "source": [
    "path_to_model = './frozen_inference_graph_coco.pb'\n",
    "path_to_config = './mask_rcnn_inception_v2_coco_2018_01_28.pbtxt'\n",
    "image_path = './image.jpg'\n",
    "colors = np.random.randint(50, 255, (80, 3))"
   ]
  },
  {
   "cell_type": "code",
   "execution_count": 10,
   "metadata": {},
   "outputs": [],
   "source": [
    "model = cv2.dnn.readNetFromTensorflow(path_to_model, path_to_config)\n",
    "img = cv2.imread(image_path)\n",
    "img = cv2.resize(img, (650, 550))\n",
    "height, width, _ = img.shape\n",
    "black_image = np.zeros((height, width, 3), np.uint8)\n",
    "black_image[:] = (0, 0, 0)"
   ]
  },
  {
   "cell_type": "code",
   "execution_count": 11,
   "metadata": {},
   "outputs": [],
   "source": [
    "blob = cv2.dnn.blobFromImage(img, swapRB=True)\n",
    "model.setInput(blob)\n",
    "boxes, masks = model.forward(['detection_out_final', 'detection_masks'])\n",
    "no_of_objects = boxes.shape[2]"
   ]
  },
  {
   "cell_type": "code",
   "execution_count": 13,
   "metadata": {},
   "outputs": [
    {
     "ename": "error",
     "evalue": "OpenCV(4.6.0) :-1: error: (-5:Bad argument) in function 'fillPoly'\n> Overload resolution failed:\n>  - Can't parse 'pts'. Sequence item with index 0 has a wrong type\n>  - Can't parse 'pts'. Sequence item with index 0 has a wrong type\n",
     "output_type": "error",
     "traceback": [
      "\u001b[0;31m---------------------------------------------------------------------------\u001b[0m",
      "\u001b[0;31merror\u001b[0m                                     Traceback (most recent call last)",
      "Cell \u001b[0;32mIn[13], line 20\u001b[0m\n\u001b[1;32m     18\u001b[0m     color \u001b[39m=\u001b[39m colors[\u001b[39mint\u001b[39m(class_id)]\n\u001b[1;32m     19\u001b[0m     \u001b[39mfor\u001b[39;00m cnt \u001b[39min\u001b[39;00m contours:\n\u001b[0;32m---> 20\u001b[0m         cv2\u001b[39m.\u001b[39mfillPoly(roi, [cnt], (\u001b[39mint\u001b[39m(color[\u001b[39m0\u001b[39m]), \u001b[39mint\u001b[39m(color[\u001b[39m1\u001b[39m]), \u001b[39mint\u001b[39m(color[\u001b[39m2\u001b[39m])))\n\u001b[1;32m     21\u001b[0m cv2\u001b[39m.\u001b[39mimshow(\u001b[39m\"\u001b[39m\u001b[39mFinal\u001b[39m\u001b[39m\"\u001b[39m,np\u001b[39m.\u001b[39mhstack([img,black_image]))\n\u001b[1;32m     22\u001b[0m overlay_frame \u001b[39m=\u001b[39m ((\u001b[39m0.6\u001b[39m\u001b[39m*\u001b[39mblack_image)\u001b[39m+\u001b[39m(\u001b[39m0.4\u001b[39m\u001b[39m*\u001b[39mimg))\u001b[39m.\u001b[39mastype(\u001b[39m\"\u001b[39m\u001b[39muint8\u001b[39m\u001b[39m\"\u001b[39m)\n",
      "\u001b[0;31merror\u001b[0m: OpenCV(4.6.0) :-1: error: (-5:Bad argument) in function 'fillPoly'\n> Overload resolution failed:\n>  - Can't parse 'pts'. Sequence item with index 0 has a wrong type\n>  - Can't parse 'pts'. Sequence item with index 0 has a wrong type\n"
     ]
    }
   ],
   "source": [
    "for i in range(no_of_objects):\n",
    "    box = boxes[0,0,i]\n",
    "    class_id = box[1]\n",
    "    score = box[2]\n",
    "    if score < 0.5:\n",
    "        continue\n",
    "    x = int(box[3] * width)\n",
    "    y = int(box[4] * height)\n",
    "    x2 = int(box[5] * width)\n",
    "    y2 = int(box[6] * height)\n",
    "    cv2.rectangle(img, (x, y), (x2, y2), (255, 0, 0), 3)\n",
    "    roi = black_image[y:y2, x:x2]\n",
    "    roi_height, roi_width, _ = roi.shape\n",
    "    mask = masks[i, int(class_id)]\n",
    "    mask = cv2.resize(mask, (roi_width, roi_height))\n",
    "    _, mask = cv2.threshold(mask, 0.5, 255, cv2.THRESH_BINARY)\n",
    "    contours = cv2.findContours(np.array(mask, np.uint8), cv2.RETR_EXTERNAL, cv2.CHAIN_APPROX_SIMPLE)\n",
    "    color = colors[int(class_id)]\n",
    "    \n",
    "    for cnt in contours:\n",
    "        cv2.fillPoly(roi, [cnt], (int(color[0]), int(color[1]), int(color[2])))\n",
    "        \n",
    "cv2.imshow(\"Final\",np.hstack([img,black_image]))\n",
    "overlay_frame = ((0.6*black_image)+(0.4*img)).astype(\"uint8\")\n",
    "cv2.imshow(\"Overlay Frame\", overlay_frame)\n",
    "cv2.waitKey(0)"
   ]
  },
  {
   "cell_type": "code",
   "execution_count": null,
   "metadata": {},
   "outputs": [],
   "source": []
  }
 ],
 "metadata": {
  "kernelspec": {
   "display_name": "base",
   "language": "python",
   "name": "python3"
  },
  "language_info": {
   "codemirror_mode": {
    "name": "ipython",
    "version": 3
   },
   "file_extension": ".py",
   "mimetype": "text/x-python",
   "name": "python",
   "nbconvert_exporter": "python",
   "pygments_lexer": "ipython3",
   "version": "3.11.4"
  },
  "orig_nbformat": 4
 },
 "nbformat": 4,
 "nbformat_minor": 2
}
